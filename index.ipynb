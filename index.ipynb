{
  "cells": [
    {
      "cell_type": "raw",
      "metadata": {},
      "source": [
        "---\n",
        "title: 안녕하세요\n",
        "toc: false\n",
        "about:\n",
        "  id: heading\n",
        "  template: jolla\n",
        "  image: pooh.webp\n",
        "  links:\n",
        "    - icon: twitter\n",
        "      text: twitter\n",
        "      herf: 'https://twitter.com'\n",
        "    - icon: github\n",
        "      text: Github\n",
        "      href: 'https://github.com'\n",
        "---"
      ],
      "id": "9fcd1fbe"
    },
    {
      "cell_type": "markdown",
      "metadata": {},
      "source": [
        "## 홈페이지 첫 화면입니다!\n",
        "\n",
        "데이터 분석 과제입니다."
      ],
      "id": "3d101216"
    }
  ],
  "metadata": {
    "kernelspec": {
      "name": "python3",
      "language": "python",
      "display_name": "Python 3 (ipykernel)"
    }
  },
  "nbformat": 4,
  "nbformat_minor": 5
}
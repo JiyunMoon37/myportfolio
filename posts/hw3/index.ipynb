{
  "cells": [
    {
      "cell_type": "raw",
      "metadata": {},
      "source": [
        "---\n",
        "title: LS 빅데이터 스쿨 HW3\n",
        "author: 지윤\n",
        "date: '2024-07-25'\n",
        "categories:\n",
        "  - bigdata\n",
        "---"
      ],
      "id": "07ee752c"
    },
    {
      "cell_type": "markdown",
      "metadata": {},
      "source": [
        "### 1. 정규분포 pdf 값을 계산하는 자신만의 파이썬 함수를 정의하고, 정규분포  mu = 3, sigma = 2의 pdf를 그릴 것. (def 사용) \n"
      ],
      "id": "fce2da77"
    },
    {
      "cell_type": "code",
      "metadata": {},
      "source": [
        "#기본 코드 \n",
        "#terminal에 쳐주고 시작하기 -> pip install pandas\n",
        "#import pandas as pd \n",
        "#from scipy.stats import norm\n",
        "#import matplotlib.pyplot as plt"
      ],
      "id": "5f3b1e0b",
      "execution_count": null,
      "outputs": []
    },
    {
      "cell_type": "code",
      "metadata": {},
      "source": [
        "def normal_pdf(x, loc, scale) : \n",
        "    \n",
        "\n",
        "\n",
        "#mu -> loc\n",
        "#sigma -> scale\n",
        "#정규분포 pdf -> norm.pdf(x, loc, scale) \n",
        "\n",
        "norm.pdf(3, 3, 2)"
      ],
      "id": "b43fae53",
      "execution_count": null,
      "outputs": []
    },
    {
      "cell_type": "markdown",
      "metadata": {},
      "source": [
        "### 2. 파이썬 scipy 패키지 사용해서 다음과 같은 확률을 구하시오.\n",
        "X ~ N(2, 3^2)\n",
        "1) P(X < 3)\n",
        "2) P(2 < X < 5)\n",
        "3) P(X < 3 or X<7)\n"
      ],
      "id": "e260a87d"
    },
    {
      "cell_type": "code",
      "metadata": {},
      "source": [
        "#X ~ N() -> norm.rvs\n",
        "#X ~ N(2, 3^2) -> norm.rvs(loc = 2, scale = 3, size = 1) \n",
        "\n",
        "#1) P(X < 3)\n",
        "#norm.rvs(loc = 2, scale = 3, size = 1) \n",
        "a = norm.cdf(3, 2, 3)\n",
        "a\n",
        "\n",
        "#2) P(2 < X < 5)\n",
        "b = norm.cdf(5, 2, 3)\n",
        "c = norm.cdf(2, 2, 3)\n",
        "b-c\n",
        "\n",
        "#3) P(X < 3 or X<7)\n",
        "d = norm.cdf(3, 2, 3)\n",
        "e = norm.cdf(7, 2, 3)\n",
        "d + (1-e)"
      ],
      "id": "f87617f8",
      "execution_count": null,
      "outputs": []
    },
    {
      "cell_type": "markdown",
      "metadata": {},
      "source": [
        "### 3. LS 빅데이터 스쿨 학생들의 중간고사 점수는 평균이 30이고, 분산이 4인 정규분포를 따른다. 상위 5%에 해당하는 학생의 점수는? \n"
      ],
      "id": "96d0dd20"
    },
    {
      "cell_type": "code",
      "metadata": {},
      "source": [
        "#평균이 3, 분산이 4, 표준편차가 2 \n",
        "loc = 30\n",
        "scale = 2\n",
        "\n",
        "x = norm.rvs(loc, scale, size = 28)\n",
        "x\n",
        "\n",
        "x_5 = norm.pdf(0.95)\n",
        "x_5_score = loc + x_5 * scale\n",
        "x_5_score "
      ],
      "id": "0a329d72",
      "execution_count": null,
      "outputs": []
    }
  ],
  "metadata": {
    "kernelspec": {
      "display_name": "Python 3",
      "language": "python",
      "name": "python3"
    }
  },
  "nbformat": 4,
  "nbformat_minor": 5
}
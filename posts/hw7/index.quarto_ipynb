{
  "cells": [
    {
      "cell_type": "markdown",
      "metadata": {},
      "source": [
        "---\n",
        "title: \"LS 빅데이터 스쿨 HW7\"\n",
        "author : \"지윤\"\n",
        "date : \"2024-09-03\"\n",
        "categories : [bigdata]\n",
        "jupyter: python3\n",
        "---\n",
        "\n",
        "이삭쌤 교재 p37,38\n",
        "\n",
        "- Scipy 함수 이름\n",
        "-> pmf : 확률질량함수\n",
        "-> pdf : 확률밀도함수\n",
        "-> cdf : 누적분포함수\n",
        "-> ppf : 퀀타일 함수\n",
        "-> rvs : 랜덤심플함수\n",
        "\n",
        "### 기본코드"
      ],
      "id": "c5e24561"
    },
    {
      "cell_type": "code",
      "metadata": {},
      "source": [
        "import pandas as pd\n",
        "import numpy as np\n",
        "import matplotlib.pyplot as plt\n",
        "from scipy.stats import norm, chi2"
      ],
      "id": "3261bbca",
      "execution_count": null,
      "outputs": []
    },
    {
      "cell_type": "markdown",
      "metadata": {},
      "source": [
        "# ADP 표본점수\n",
        "> 2022년에 실시된 ADP실기 시험의 통계파트 표준점수는 평균이 30, 표준편차가 5인 정규분포를 따른다고 한다.\n",
        "\n",
        "### 1) \n",
        "ADP실기 시험의 통계파트 표준점수의 밀도함수를 그려보세요.\n"
      ],
      "id": "4ea56c7b"
    },
    {
      "cell_type": "code",
      "metadata": {},
      "source": [
        "#pdf : 확률밀도함수\n",
        "x = np.linspace(10, 50, 200)\n",
        "y = norm.pdf(x, loc = 30, scale = 5)\n",
        "\n",
        "plt.plot(x, y, color=\"#f2c94c\")\n",
        "\n",
        "plt.show()\n",
        "plt.clf() "
      ],
      "id": "3a5bb60b",
      "execution_count": null,
      "outputs": []
    },
    {
      "cell_type": "markdown",
      "metadata": {},
      "source": [
        "### 2) \n",
        "ADP수험생을 임의로 1명을 선택하여 통계점수를 조회했을 때 45점보다 높은 점수를 받았을 확률을 구하세요.\n"
      ],
      "id": "d8507672"
    },
    {
      "cell_type": "code",
      "metadata": {},
      "source": [
        "#cdf : 누적분포함수\n",
        "1-norm.cdf(45, loc = 30, scale = 5)"
      ],
      "id": "5923af2e",
      "execution_count": null,
      "outputs": []
    },
    {
      "cell_type": "markdown",
      "metadata": {},
      "source": [
        "### 3) \n",
        "슬통이는 상위10%에 해당하는 점수를 얻었다고 한다면, 슬통이의 점수는 얼마인지 계산해보세요.\n"
      ],
      "id": "2421f594"
    },
    {
      "cell_type": "code",
      "metadata": {},
      "source": [
        "#pdf : 확률밀도함수\n",
        "norm.ppf(0.9, loc = 30, scale = 5)"
      ],
      "id": "435f6d96",
      "execution_count": null,
      "outputs": []
    },
    {
      "cell_type": "markdown",
      "metadata": {},
      "source": [
        "### 4) \n",
        "슬기로운 통계 생활의 해당 회차 수강생은 16명이었다고 한다. 16명의 통계파트 점수를 평균 내었을때, 이 평균값이 따르는 분포의 확률밀도함수를 1번의 그래프와 겹쳐 그려 보세요.\n"
      ],
      "id": "22252d39"
    },
    {
      "cell_type": "code",
      "metadata": {},
      "source": [
        "#pdf : 확률밀도함수\n",
        "#1번 함수 \n",
        "x = np.linspace(10, 50, 200)\n",
        "y = norm.pdf(x, loc = 30, scale = 5)\n",
        "plt.plot(x, y, color=\"#66b366\")\n",
        "\n",
        "#4번 함수\n",
        "y2 = norm.pdf(x, loc = 30, scale = 5/np.sqrt(16))\n",
        "plt.plot(x, y2, color=\"#99ccff\")\n",
        "\n",
        "plt.show()\n",
        "plt.clf() "
      ],
      "id": "28e64791",
      "execution_count": null,
      "outputs": []
    },
    {
      "cell_type": "markdown",
      "metadata": {},
      "source": [
        "### 5) \n",
        "슬기로운 통계생활 ADP반 수강생들의 통계점수를 평균 내었다고할 때,이 값이 38점보다 높게 나올 확률을 구하세요.\n"
      ],
      "id": "81a5e191"
    },
    {
      "cell_type": "code",
      "metadata": {},
      "source": [
        "#cdf : 누적분포함수\n",
        "1-norm.cdf(38, loc = 30, scale=5/np.sqrt(16))"
      ],
      "id": "4b83ca09",
      "execution_count": null,
      "outputs": []
    },
    {
      "cell_type": "markdown",
      "metadata": {},
      "source": [
        "# Covid 19 발병률\n",
        "\n",
        "> Covid‑19의 발병률은 1%라고 한다.다음은 이번 코로나 사태로 인하여 코로나 의심환자들 1,085\n",
        "명을 대상으로 슬통 회사의“다잡아”키트를 사용하여 양성반응을 체크한 결과이다.\n",
        "\n",
        "|  키트/실제 | 양성  | 음성  |\n",
        "|------------|-------|-------|\n",
        "|    양성    |  370  |  10   |\n",
        "|    음성    |  15   |  690  |\n",
        "\n",
        "### 1) \n",
        "다잡아 키트가 코로나 바이러스에 걸린 사람을 양성으로 잡아낼 확률을 계산하세요.\n"
      ],
      "id": "4fc35452"
    },
    {
      "cell_type": "code",
      "metadata": {},
      "source": [
        "#P(키트 양성|실제 양성)\n",
        "p1 = 370 / (370+15)\n",
        "p1"
      ],
      "id": "832aa9cd",
      "execution_count": null,
      "outputs": []
    },
    {
      "cell_type": "markdown",
      "metadata": {},
      "source": [
        "### 2) \n",
        "슬통 회사에서 다잡아 키트를 사용해 양성으로 나온 사람이 실제로는 코로나 바이러스에 걸려있을 확률을 97%라며, 키트의 우수성을 주장했다. 이 주장이 옳지 않은 이유를 서술하세요.\n"
      ],
      "id": "e42e7fd2"
    },
    {
      "cell_type": "code",
      "metadata": {},
      "source": [
        "#P(실제 양성|키트 양성)\n",
        "p2 = 370 / (370 +10)\n",
        "p2 "
      ],
      "id": "68f86498",
      "execution_count": null,
      "outputs": []
    },
    {
      "cell_type": "markdown",
      "metadata": {},
      "source": [
        "### 3) \n",
        "Covid‑19 발병률을 사용하여, 키트의 결과값이 양성으로 나온 사람이 실제로 코로나 바이러스에 걸려있을 확률을 구하세요.\n"
      ],
      "id": "392a04f3"
    },
    {
      "cell_type": "code",
      "metadata": {},
      "source": [
        "#P(실제 양성|키트 양성)\n",
        "#A = 실제 양성 \n",
        "#B = 키트 양성\n",
        "#C = 실제 음성 \n",
        "#= P(B 교 A) / P(B) \n",
        "#= {P(A) * P(B|A)} / {P(A) * P(B|A) + P(C) * P(B|C)}\n",
        "#P(A) = 0.01 \n",
        "#P(B|A) (실제가 양성일 때 키트가 양성이 나올 확률) = 370 / (370+15)\n",
        "#P(C) = 1 - 0.01 = 0.99\n",
        "#P(B|C) (실제가 음성일 때 키트가 양성이 나올 확률) = 10 / (10+690)\n",
        "a = 0.01\n",
        "b_a = p1\n",
        "c = 1 - a\n",
        "b_c = 10 / (10+690)\n",
        "\n",
        "p3 = (a * b_a) / (a * b_a + c * b_c)\n",
        "p3"
      ],
      "id": "c6d910e7",
      "execution_count": null,
      "outputs": []
    },
    {
      "cell_type": "markdown",
      "metadata": {},
      "source": [
        "# 카이제곱 분포와 표본분산\n",
        "\n",
        "> 자유도가𝑘인 카이제곱분포를 따르는 확률변수𝑋를\n",
        "과 같이 나타내고,이 확률변수의 확률밀도함수는 다음과 같습니다.\n",
        "\n",
        "### 1) \n",
        "자유도가 4인 카이제곱분포의 확률밀도함수를 그려보세요.\n"
      ],
      "id": "27111bf1"
    },
    {
      "cell_type": "code",
      "metadata": {},
      "source": [
        "#pdf : 확률밀도함수\n",
        "k = np.linspace(0, 8, 100)\n",
        "y = chi2.pdf(k, df = 4)\n",
        "plt.plot(k, y, color = \"#e6ccff\")\n",
        "plt.show()\n",
        "plt.clf()"
      ],
      "id": "0128f031",
      "execution_count": null,
      "outputs": []
    },
    {
      "cell_type": "markdown",
      "metadata": {},
      "source": [
        "### 2) \n",
        "다음의 확률을 구해보세요. 𝑃 (3 ≤ 𝑋 ≤ 5)\n"
      ],
      "id": "1cda4465"
    },
    {
      "cell_type": "code",
      "metadata": {},
      "source": [
        "p = chi2.cdf(5, df=4) - chi2.cdf(3, df=4)\n",
        "p"
      ],
      "id": "cb7bc380",
      "execution_count": null,
      "outputs": []
    },
    {
      "cell_type": "markdown",
      "metadata": {},
      "source": [
        "### 3) \n",
        "자유도가 4인 카이제곱분포에서 크기가 1000인 표본을 뽑은 후, 히스토그램을 그려보세요.\n"
      ],
      "id": "a6f27422"
    },
    {
      "cell_type": "code",
      "metadata": {},
      "source": [
        "samples = chi2.rvs(size=1000, df = 4, random_state=20240903)\n",
        "plt.hist(samples, bins = 30, density=True, color = \"#ffcc99\")\n",
        "plt.show()\n",
        "plt.clf()"
      ],
      "id": "ec028086",
      "execution_count": null,
      "outputs": []
    },
    {
      "cell_type": "markdown",
      "metadata": {},
      "source": [
        "### 4) \n",
        "자유도가 4인 카이제곱분포를 따르는 확률변수에서 나올 수 있는 값 중 상위 5%에 해당하는 값은 얼마인지 계산해보세요.\n"
      ],
      "id": "d24e6d8d"
    },
    {
      "cell_type": "code",
      "metadata": {},
      "source": [
        "#ppf : 퀀타일 함수\n",
        "chi2.ppf(0.95, df = 4)"
      ],
      "id": "4f756882",
      "execution_count": null,
      "outputs": []
    },
    {
      "cell_type": "markdown",
      "metadata": {},
      "source": [
        "### 5) \n",
        "3번에서 뽑힌 표본값들 중 상위 5%에 위치한 표본의 값은 얼마인가요?\n"
      ],
      "id": "4eb9ed98"
    },
    {
      "cell_type": "code",
      "metadata": {},
      "source": [
        "np.percentile(samples, 95)"
      ],
      "id": "f5595ac4",
      "execution_count": null,
      "outputs": []
    },
    {
      "cell_type": "markdown",
      "metadata": {},
      "source": [
        "### 6) \n",
        "평균이 3, 표준편차가 2인 정규분포를 따르는 확률변수에서 크기가 20인 표본, 𝑥1, …, 𝑥20,을 뽑은 후 표본분산을 계산한 것을 𝑠1^2이라 생각해보죠. 다음을 수행해보세요!\n",
        "\n",
        "- 같은 방법으로 500개의 𝑠^2들, 𝑠1^2, 𝑠2^2, …, 𝑠500^2 발생시킵니다.\n",
        "- 발생한 500개의 𝑠^2 들 각각에 4.75를 곱하고, 그것들의 히스토그램을 그려보세요. (히스토그램을 그릴 때 probability = TRUE 옵션을 사용해서 그릴 것)\n",
        "- 위에서 그린 히스토그램에 자유도가 19인 카이제곱분포 확률밀도함수를 겹쳐그려보세요.\n"
      ],
      "id": "f7067744"
    },
    {
      "cell_type": "code",
      "metadata": {},
      "source": [
        "np.random.seed(20240903)\n",
        "n = 20\n",
        "var = []\n",
        "\n",
        "for i in range(500):\n",
        "    x = norm.rvs(loc = 3, scale = 2, size = n)\n",
        "    var.append(np.var(x, ddof=1))\n",
        "    \n",
        "var2 = np.array(var) * 4.75\n",
        "plt.hist(var2, bins=50, density=True, color=\"pink\")\n",
        "\n",
        "x = np.linspace(min(var2), max(var2), 100)\n",
        "y = chi2.pdf(x, df=19)\n",
        "plt.plot(x, y, linestyle = '--', linewidth=2, color=\"lightblue\")\n",
        " \n",
        "plt.show()\n",
        "plt.clf()"
      ],
      "id": "ef77916e",
      "execution_count": null,
      "outputs": []
    }
  ],
  "metadata": {
    "kernelspec": {
      "name": "python3",
      "language": "python",
      "display_name": "Python 3 (ipykernel)",
      "path": "C:\\Users\\USER\\AppData\\Roaming\\Python\\share\\jupyter\\kernels\\python3"
    }
  },
  "nbformat": 4,
  "nbformat_minor": 5
}
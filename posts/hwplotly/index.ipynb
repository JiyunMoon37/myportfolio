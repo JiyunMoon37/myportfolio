{
  "cells": [
    {
      "cell_type": "raw",
      "metadata": {},
      "source": [
        "---\n",
        "title: LS 빅데이터 스쿨 plotly\n",
        "author: 지윤\n",
        "date: '2024-07-22'\n",
        "categories:\n",
        "  - bigdata\n",
        "---"
      ],
      "id": "bd0cf4c8"
    },
    {
      "cell_type": "markdown",
      "metadata": {},
      "source": [
        "# Do it! 쉽게 배우는 파이썬 데이터 분석 \n",
        "\n",
        "\n",
        "### (p316) 산점도 만들기 \n",
        "\n",
        "Q1. 다음 표의 내용을 데이터 프레임으로 만들어 출력해 보세요. \n"
      ],
      "id": "4d07026c"
    },
    {
      "cell_type": "code",
      "metadata": {},
      "source": [
        "import pandas as pd\n",
        "\n",
        "df = pd.DataFrame({\n",
        "    '제품' : [\"사과\", \"딸기\", \"수박\"],\n",
        "    '가격' : [1800, 1500, 3000],\n",
        "    '판매량' : [24, 38, 13]\n",
        "})\n",
        "\n",
        "df"
      ],
      "id": "ec6bf407",
      "execution_count": null,
      "outputs": []
    },
    {
      "cell_type": "markdown",
      "metadata": {},
      "source": [
        "Q2. 앞에서 만든 데이터 프레임을 이용해 과일의 가격 평균과 판매량 평균을 구해보세요. \n"
      ],
      "id": "bfb6c191"
    },
    {
      "cell_type": "code",
      "metadata": {},
      "source": [
        "cost_avg = sum(df[\"가격\"])/3\n",
        "cost_avg"
      ],
      "id": "0b824c18",
      "execution_count": null,
      "outputs": []
    },
    {
      "cell_type": "code",
      "metadata": {},
      "source": [
        "selling_avg = sum(df[\"판매량\"])/3\n",
        "selling_avg"
      ],
      "id": "2fff84df",
      "execution_count": null,
      "outputs": []
    },
    {
      "cell_type": "markdown",
      "metadata": {},
      "source": [
        "### (p115) mpg 데이터를 이용해 분석 문제를 해결해보세요. \n",
        "\n",
        "Q1. mpg 데이터를 불러와 복사본을 만드세요.\n"
      ],
      "id": "686f640a"
    },
    {
      "cell_type": "code",
      "metadata": {},
      "source": [
        "df_mpg = pd.read_csv('data/mpg.csv')\n",
        "df_mpg_copy = df_mpg.copy()\n",
        "print(df_mpg_copy)"
      ],
      "id": "5e356422",
      "execution_count": null,
      "outputs": []
    },
    {
      "cell_type": "markdown",
      "metadata": {},
      "source": [
        "Q2. 복사본 데이터를 이용해 cty는 city로, hwy는 highway로 수정하세요.\n"
      ],
      "id": "28718cbb"
    },
    {
      "cell_type": "code",
      "metadata": {},
      "source": [
        "df_mpg_copy = df_mpg_copy.rename(columns = {'cty' : 'city'})\n",
        "df_mpg_copy = df_mpg_copy.rename(columns = {'hwy' : 'highway'})"
      ],
      "id": "6ceca10a",
      "execution_count": null,
      "outputs": []
    },
    {
      "cell_type": "markdown",
      "metadata": {},
      "source": [
        "Q3. 데이터 일부를 출력해 변수명이 바뀌었는지 확인해 보세요. 다음과 같은 결과물이 출력되어야 합니다. \n"
      ],
      "id": "c7da884d"
    },
    {
      "cell_type": "code",
      "metadata": {},
      "source": [
        "df_mpg_copy.head()"
      ],
      "id": "7267fd96",
      "execution_count": null,
      "outputs": []
    },
    {
      "cell_type": "markdown",
      "metadata": {},
      "source": [
        "### (p130) [분석 도전]\n",
        "\n",
        "Q1. midwest.csv를 불러와 데이터의 특징을 파악하세요.\n"
      ],
      "id": "772eabff"
    },
    {
      "cell_type": "code",
      "metadata": {},
      "source": [
        "mwt = pd.read_csv('data/midwest.csv')\n",
        "mwt.head()  #데이터 앞부분\n",
        "mwt.tail()  #데이터 뒷부분 \n",
        "mwt.shape   #행, 열 수\n",
        "mwt.info()  #속성\n",
        "mwt.describe()  #요약 통계량 "
      ],
      "id": "005bf2f3",
      "execution_count": null,
      "outputs": []
    },
    {
      "cell_type": "markdown",
      "metadata": {},
      "source": [
        "Q2. poptotal(전체 인구) 변수를 total로, popasian(아시아 인구) 변수를 asian으로 수정하세요.\n"
      ],
      "id": "c7f1239a"
    },
    {
      "cell_type": "code",
      "metadata": {},
      "source": [
        "mwt = mwt.rename(columns = {'poptotal' : 'total'})\n",
        "mwt = mwt.rename(columns = {'popasian' : 'asian'})"
      ],
      "id": "8079990b",
      "execution_count": null,
      "outputs": []
    },
    {
      "cell_type": "markdown",
      "metadata": {},
      "source": [
        "Q3. total, asian 변수를 이용해 '전체 인구 대비 아시아 인구 백분율' 파생변수를 추가하고, 히스토그램을 만들어 분포를 살펴보세요.\n"
      ],
      "id": "e49cdfce"
    },
    {
      "cell_type": "code",
      "metadata": {},
      "source": [
        "mwt['asian_percentage'] = (mwt['asian'] / mwt['total']) * 100 #파생변수 추가 \n",
        "\n",
        "mwt['asian_percentage'].plot.hist()"
      ],
      "id": "0d5d9b7a",
      "execution_count": null,
      "outputs": []
    },
    {
      "cell_type": "markdown",
      "metadata": {},
      "source": [
        "Q4. 아시아 인구 백분율 전체 평균을 구하고, 평균을 초과하면 'large;, 그 외에는 'small'을 부여한 파생변수를 만들어 보세요.\n"
      ],
      "id": "04eff1e7"
    },
    {
      "cell_type": "code",
      "metadata": {},
      "source": [
        "import numpy as np\n",
        "\n",
        "mean_asian_percentage = np.mean(mwt['asian_percentage'])\n",
        "\n",
        "#평균 초과하면 'large', 그 외에는 'small' 부여\n",
        "mwt['average standard'] = np.where(mwt['asian_percentage'] > mean_asian_percentage,'large', 'small') "
      ],
      "id": "198e7c22",
      "execution_count": null,
      "outputs": []
    },
    {
      "cell_type": "markdown",
      "metadata": {},
      "source": [
        "Q5. 'large'와 'small' 에 해당하는 지역이 얼마나 많은지 빈도표와 빈도 막대 그래프를 만들어 확인해 보세요.\n"
      ],
      "id": "b2196321"
    },
    {
      "cell_type": "code",
      "metadata": {},
      "source": [
        "mwt['average standard'].value_counts()\n",
        "\n",
        "count_test = mwt['average standard'].value_counts()\n",
        "count_test.plot.bar(rot = 0)"
      ],
      "id": "bb47d50e",
      "execution_count": null,
      "outputs": []
    }
  ],
  "metadata": {
    "kernelspec": {
      "name": "python3",
      "language": "python",
      "display_name": "Python 3 (ipykernel)"
    }
  },
  "nbformat": 4,
  "nbformat_minor": 5
}
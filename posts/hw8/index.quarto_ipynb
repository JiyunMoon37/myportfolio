{
  "cells": [
    {
      "cell_type": "markdown",
      "metadata": {},
      "source": [
        "---\n",
        "title: \"LS 빅데이터 스쿨 HW8\"\n",
        "author : \"지윤\"\n",
        "date : \"2024-09-10\"\n",
        "categories : [bigdata]\n",
        "jupyter: python3\n",
        "---\n",
        "\n",
        "\n",
        "### 기본코드"
      ],
      "id": "324aefe6"
    },
    {
      "cell_type": "code",
      "metadata": {},
      "source": [
        "import pandas as pd\n",
        "import numpy as np\n",
        "import statsmodels.api as sm\n",
        "from sklearn.metrics import f1_score"
      ],
      "id": "f3065246",
      "execution_count": null,
      "outputs": []
    },
    {
      "cell_type": "markdown",
      "metadata": {},
      "source": [
        "## 문제 1: 데이터 로드 및 로지스틱 회귀 모델 적합"
      ],
      "id": "5cb6e039"
    },
    {
      "cell_type": "code",
      "metadata": {},
      "source": [
        "# 데이터 로드\n",
        "# 파일을 판다스로 읽기\n",
        "file_path =\"C:/Users/USER/Documents/LS빅데이터스쿨/lsbigdata-project1/data/leukemia_remission.txt\"\n",
        "\n",
        "# 공백 또는 탭으로 구분된 데이터를 pandas DataFrame으로 불러오기\n",
        "data = pd.read_csv(file_path, sep='\\t') # 공백으로 구분된 파일\n",
        "#data =  pd.read_table(\"C:/Users/USER/Documents/LS빅데이터스쿨/lsbigdata-project1/data/leukemia_remission.txt\", delimiter='\\t')\n",
        "print(data.head())\n",
        "\n",
        "# 독립 변수와 종속 변수 정의\n",
        "X = data[['CELL', 'SMEAR', 'INFIL', 'LI', 'BLAST', 'TEMP']]\n",
        "y = data['REMISS']\n",
        "\n",
        "# 상수항 추가\n",
        "X = sm.add_constant(X)\n",
        "\n",
        "# 로지스틱 회귀 모델 적합\n",
        "model = sm.Logit(y, X).fit()\n",
        "\n",
        "# 회귀 표 작성\n",
        "print(model.summary())"
      ],
      "id": "bd586980",
      "execution_count": null,
      "outputs": []
    },
    {
      "cell_type": "markdown",
      "metadata": {},
      "source": [
        "## 문제 2: 모델의 통계적 유의성 검정"
      ],
      "id": "10f7bfc5"
    },
    {
      "cell_type": "code",
      "metadata": {},
      "source": [
        "# 모델의 유의성 평가\n",
        "# p-value 확인\n",
        "p_values = model.pvalues\n",
        "print(\"\\n각 변수의 p-value:\")\n",
        "print(p_values)\n",
        "\n",
        "# 유의성 판단\n",
        "alpha = 0.05\n",
        "significant_vars = p_values[p_values < alpha].index.tolist()\n",
        "if significant_vars:\n",
        "    print(f\"\\n유의한 변수들: {significant_vars}\")\n",
        "else:\n",
        "    print(\"\\n유의한 변수가 없습니다.\")\n",
        "\n",
        "# 예측 수행\n",
        "# 예측 확률 계산\n",
        "predicted_probabilities = model.predict(X)\n",
        "\n",
        "# 예측 클래스 결정 (임계값 0.5 사용)\n",
        "predicted_classes = (predicted_probabilities >= 0.5).astype(int)\n",
        "\n",
        "# 예측 결과 출력\n",
        "data['Predicted_Probabilities'] = predicted_probabilities\n",
        "data['Predicted_Classes'] = predicted_classes\n",
        "\n",
        "print(\"\\n예측 결과:\")\n",
        "print(data[['REMISS', 'Predicted_Probabilities', 'Predicted_Classes']].head())\n",
        "\n",
        "# 혼동 행렬 출력\n",
        "from sklearn.metrics import confusion_matrix\n",
        "conf_matrix = confusion_matrix(data['REMISS'], predicted_classes)\n",
        "print(\"\\n혼동 행렬:\")\n",
        "print(conf_matrix)\n",
        "\n",
        "# 정확도 계산\n",
        "accuracy = (conf_matrix[0, 0] + conf_matrix[1, 1]) / conf_matrix.sum()\n",
        "print(f\"\\n모델의 정확도: {accuracy:.2f}\")"
      ],
      "id": "59ae4491",
      "execution_count": null,
      "outputs": []
    },
    {
      "cell_type": "markdown",
      "metadata": {},
      "source": [
        "## 문제 3: 유의수준 0.2 기준으로 통계적으로 유의한 변수"
      ],
      "id": "f666067c"
    },
    {
      "cell_type": "code",
      "metadata": {},
      "source": [
        "# 유의수준 0.2 기준으로 유의한 변수 확인\n",
        "alpha = 0.2\n",
        "significant_vars_0_2 = p_values[p_values < alpha].index.tolist()\n",
        "\n",
        "print(f\"\\n유의수준 0.2에서 유의한 변수들: {significant_vars_0_2}\")\n",
        "print(f\"유의한 변수의 개수: {len(significant_vars_0_2)}\")\n",
        "\n",
        "#유의수준 0.2에서 유의한 변수들: ['LI', 'TEMP']\n",
        "#유의한 변수의 개수: 2\n",
        "\n",
        "## 문제 4: 주어진 환자에 대한 오즈 계산\n",
        "# 환자 특성 정의\n",
        "patient_data = {\n",
        "    'const': 1,  # 상수항\n",
        "    'CELL': 0.65,\n",
        "    'SMEAR': 0.45,\n",
        "    'INFIL': 0.55,\n",
        "    'LI': 1.2,\n",
        "    'BLAST': 1.1,\n",
        "    'TEMP': 0.9\n",
        "}\n",
        "\n",
        "# 오즈 계산\n",
        "log_odds = model.params.dot(pd.Series(patient_data))\n",
        "odds = np.exp(log_odds)\n",
        "\n",
        "print(f\"\\n환자의 오즈: {odds:.4f}\")\n",
        "\n",
        "# 환자의 오즈: 0.0382"
      ],
      "id": "e5a5d7b9",
      "execution_count": null,
      "outputs": []
    },
    {
      "cell_type": "markdown",
      "metadata": {},
      "source": [
        "## 문제 5: 백혈병 세포가 관측되지 않은 확률 계산"
      ],
      "id": "64f7d2bb"
    },
    {
      "cell_type": "code",
      "metadata": {},
      "source": [
        "# 예측 확률 계산\n",
        "predicted_probability = model.predict(pd.Series(patient_data))\n",
        "non_observed_probability = 1 - predicted_probability\n",
        "\n",
        "print(f\"\\n백혈병 세포가 관측되지 않은 확률: {non_observed_probability.values[0]:.4f}\")\n",
        "\n",
        "#백혈병 세포가 관측되지 않은 확률: 0.9632"
      ],
      "id": "aae01f23",
      "execution_count": null,
      "outputs": []
    },
    {
      "cell_type": "markdown",
      "metadata": {},
      "source": [
        "## 문제 6: TEMP 변수의 계수와 설명"
      ],
      "id": "e7788a88"
    },
    {
      "cell_type": "code",
      "metadata": {},
      "source": [
        "# TEMP 변수의 계수\n",
        "temp_coefficient = model.params['TEMP']\n",
        "print(f\"\\nTEMP 변수의 계수: {temp_coefficient:.4f}\")\n",
        "\n",
        "# TEMP의 영향 설명\n",
        "print(\"TEMP 변수의 계수는 치료에 대한 영향력을 나타냅니다. 계수가 양수인 경우, TEMP가 증가할수록 백혈병 치료의 성공 확률이 증가하는 것을 의미합니다.\")\n",
        "\n",
        "#TEMP 변수의 계수: -100.1734\n",
        "#TEMP 변수의 계수는 치료에 대한 영향력을 나타냅니다. \n",
        "#계수가 양수인 경우, TEMP가 증가할수록 백혈병 치료의 성공 확률이 증가하는 것을 의미합니다."
      ],
      "id": "6e22e7ce",
      "execution_count": null,
      "outputs": []
    },
    {
      "cell_type": "markdown",
      "metadata": {},
      "source": [
        "## 문제 7: CELL 변수의 99% 오즈비에 대한 신뢰구간"
      ],
      "id": "33dd3978"
    },
    {
      "cell_type": "code",
      "metadata": {},
      "source": [
        "# CELL 변수의 오즈비 및 신뢰구간 계산\n",
        "cell_odds_ratio = np.exp(model.params['CELL'])\n",
        "\n",
        "# 99% 신뢰구간 계산\n",
        "conf_int = model.conf_int(alpha=0.01).loc['CELL']  # alpha=0.01로 99% 신뢰구간\n",
        "cell_conf_int = np.exp(conf_int)\n",
        "\n",
        "print(f\"CELL 변수의 오즈비: {cell_odds_ratio:.4f}\")\n",
        "print(f\"CELL 변수의 99% 신뢰구간: ({cell_conf_int[0]:.4e}, {cell_conf_int[1]:.4e})\")\n",
        "\n",
        "#CELL 변수의 99% 신뢰구간: (1.1673e-45, 5.1460e+71)"
      ],
      "id": "def8266f",
      "execution_count": null,
      "outputs": []
    },
    {
      "cell_type": "markdown",
      "metadata": {},
      "source": [
        "## 문제 8: 로지스틱 회귀 모델의 예측 확률과 혼동 행렬"
      ],
      "id": "2b21a346"
    },
    {
      "cell_type": "code",
      "metadata": {},
      "source": [
        "# 예측 확률 계산\n",
        "data['Predicted_Probabilities'] = model.predict(X)\n",
        "data['Predicted_Classes'] = (data['Predicted_Probabilities'] >= 0.5).astype(int)\n",
        "\n",
        "# 혼동 행렬 계산\n",
        "conf_matrix = confusion_matrix(data['REMISS'], data['Predicted_Classes'])\n",
        "print(\"\\n혼동 행렬:\")\n",
        "print(conf_matrix)\n",
        "\n",
        "#혼동 행렬:\n",
        "#[[15  3]\n",
        "#[ 4  5]]"
      ],
      "id": "39026876",
      "execution_count": null,
      "outputs": []
    },
    {
      "cell_type": "markdown",
      "metadata": {},
      "source": [
        "## 문제 9: 모델의 Accuracy 계산"
      ],
      "id": "00e49629"
    },
    {
      "cell_type": "code",
      "metadata": {},
      "source": [
        "# 정확도 계산\n",
        "accuracy = (conf_matrix[0, 0] + conf_matrix[1, 1]) / conf_matrix.sum()\n",
        "print(f\"\\n모델의 Accuracy: {accuracy:.2f}\")\n",
        "\n",
        "#모델의 Accuracy: 0.74"
      ],
      "id": "f929d058",
      "execution_count": null,
      "outputs": []
    },
    {
      "cell_type": "markdown",
      "metadata": {},
      "source": [
        "## 문제 10: F1 Score 계산 "
      ],
      "id": "dfdc7f9c"
    },
    {
      "cell_type": "code",
      "metadata": {},
      "source": [
        "# F1 Score 계산\n",
        "f1 = f1_score(data['REMISS'], data['Predicted_Classes'])\n",
        "print(f\"\\n모델의 F1 Score: {f1:.4f}\")\n",
        "\n",
        "#모델의 F1 Score: 0.5882"
      ],
      "id": "da40e05a",
      "execution_count": null,
      "outputs": []
    }
  ],
  "metadata": {
    "kernelspec": {
      "display_name": "Python 3",
      "language": "python",
      "name": "python3"
    }
  },
  "nbformat": 4,
  "nbformat_minor": 5
}
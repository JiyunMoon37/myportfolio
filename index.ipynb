{
  "cells": [
    {
      "cell_type": "raw",
      "metadata": {},
      "source": [
        "---\n",
        "title: 안녕하세요\n",
        "toc: false\n",
        "about:\n",
        "  id: heading\n",
        "  template: jolla\n",
        "  image: coding_kitty.png\n",
        "  links:\n",
        "    - icon: twitter\n",
        "      text: twitter\n",
        "      href: 'https://twitter.com'\n",
        "    - icon: github\n",
        "      text: Github\n",
        "      href: 'https://github.com'\n",
        "---"
      ],
      "id": "296c14fa"
    },
    {
      "cell_type": "markdown",
      "metadata": {},
      "source": [
        "## 홈페이지 첫 화면입니다!\n",
        "\n",
        "데이터 분석 과제입니다."
      ],
      "id": "7e66d18f"
    }
  ],
  "metadata": {
    "kernelspec": {
      "display_name": "Python 3",
      "language": "python",
      "name": "python3"
    }
  },
  "nbformat": 4,
  "nbformat_minor": 5
}